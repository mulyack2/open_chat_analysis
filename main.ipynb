{
 "cells": [
  {
   "cell_type": "code",
   "execution_count": 16,
   "metadata": {},
   "outputs": [],
   "source": [
    "import pandas as pd"
   ]
  },
  {
   "cell_type": "code",
   "execution_count": 17,
   "metadata": {},
   "outputs": [],
   "source": [
    "FILE_PATH = \"./chat.csv\"\n",
    "raw_df = pd.read_csv(FILE_PATH)"
   ]
  },
  {
   "cell_type": "code",
   "execution_count": 19,
   "metadata": {},
   "outputs": [
    {
     "data": {
      "text/plain": [
       "Index(['Date', 'User', 'Message'], dtype='object')"
      ]
     },
     "execution_count": 19,
     "metadata": {},
     "output_type": "execute_result"
    }
   ],
   "source": [
    "raw_df.columns"
   ]
  },
  {
   "cell_type": "code",
   "execution_count": 20,
   "metadata": {},
   "outputs": [
    {
     "data": {
      "text/html": [
       "<div>\n",
       "<style scoped>\n",
       "    .dataframe tbody tr th:only-of-type {\n",
       "        vertical-align: middle;\n",
       "    }\n",
       "\n",
       "    .dataframe tbody tr th {\n",
       "        vertical-align: top;\n",
       "    }\n",
       "\n",
       "    .dataframe thead th {\n",
       "        text-align: right;\n",
       "    }\n",
       "</style>\n",
       "<table border=\"1\" class=\"dataframe\">\n",
       "  <thead>\n",
       "    <tr style=\"text-align: right;\">\n",
       "      <th></th>\n",
       "      <th>Date</th>\n",
       "      <th>Message</th>\n",
       "    </tr>\n",
       "  </thead>\n",
       "  <tbody>\n",
       "    <tr>\n",
       "      <th>27233</th>\n",
       "      <td>2024-03-25 23:10:49</td>\n",
       "      <td>세상이미쳐돌아가는구나아주</td>\n",
       "    </tr>\n",
       "    <tr>\n",
       "      <th>40121</th>\n",
       "      <td>2024-03-28 23:02:42</td>\n",
       "      <td>네</td>\n",
       "    </tr>\n",
       "    <tr>\n",
       "      <th>61167</th>\n",
       "      <td>2024-04-02 22:35:36</td>\n",
       "      <td>다른 분이</td>\n",
       "    </tr>\n",
       "  </tbody>\n",
       "</table>\n",
       "</div>"
      ],
      "text/plain": [
       "                      Date        Message\n",
       "27233  2024-03-25 23:10:49  세상이미쳐돌아가는구나아주\n",
       "40121  2024-03-28 23:02:42              네\n",
       "61167  2024-04-02 22:35:36          다른 분이"
      ]
     },
     "execution_count": 20,
     "metadata": {},
     "output_type": "execute_result"
    }
   ],
   "source": [
    "raw_df.loc[:,['Date','Message']].sample(3)"
   ]
  },
  {
   "cell_type": "code",
   "execution_count": 21,
   "metadata": {},
   "outputs": [],
   "source": [
    "from KakaoTalkAnalysis import GeneralPreproc\n",
    "general_controller = GeneralPreproc(raw_df)"
   ]
  },
  {
   "cell_type": "code",
   "execution_count": 22,
   "metadata": {},
   "outputs": [],
   "source": [
    "# 전체 chatting 데이터\n",
    "total_df = general_controller()\n",
    "\n",
    "# n개 이상의 chat이 있는 유저 데이터\n",
    "filtered_df = general_controller(300)"
   ]
  },
  {
   "cell_type": "code",
   "execution_count": 23,
   "metadata": {},
   "outputs": [],
   "source": [
    "from KakaoTalkAnalysis import EdaController\n",
    "\n",
    "eda_controller = EdaController()"
   ]
  },
  {
   "cell_type": "code",
   "execution_count": 24,
   "metadata": {},
   "outputs": [
    {
     "name": "stdout",
     "output_type": "stream",
     "text": [
      "start_date : 2024-03-15 08:02\n",
      "end_date   : 2024-04-05 10:09\n",
      "total_user : 48\n",
      "total_talk : 67413\n"
     ]
    }
   ],
   "source": [
    "total_info_dict = eda_controller.info_dict(total_df)\n",
    "eda_controller.info_print(total_df)"
   ]
  },
  {
   "cell_type": "code",
   "execution_count": 25,
   "metadata": {},
   "outputs": [
    {
     "name": "stdout",
     "output_type": "stream",
     "text": [
      "start_date : 2024-03-15 08:02\n",
      "end_date   : 2024-04-05 10:09\n",
      "total_user : 25\n",
      "total_talk : 66102\n"
     ]
    }
   ],
   "source": [
    "filtered_info_dict = eda_controller.info_dict(filtered_df)\n",
    "eda_controller.info_print(filtered_df)"
   ]
  },
  {
   "cell_type": "code",
   "execution_count": 26,
   "metadata": {},
   "outputs": [],
   "source": [
    "from KakaoTalkAnalysis import StatsController\n",
    "from KakaoTalkAnalysis import Visualizer\n",
    "\n",
    "stats_controller = StatsController(filtered_df)"
   ]
  },
  {
   "cell_type": "code",
   "execution_count": 27,
   "metadata": {},
   "outputs": [
    {
     "data": {
      "text/html": [
       "<div>\n",
       "<style scoped>\n",
       "    .dataframe tbody tr th:only-of-type {\n",
       "        vertical-align: middle;\n",
       "    }\n",
       "\n",
       "    .dataframe tbody tr th {\n",
       "        vertical-align: top;\n",
       "    }\n",
       "\n",
       "    .dataframe thead th {\n",
       "        text-align: right;\n",
       "    }\n",
       "</style>\n",
       "<table border=\"1\" class=\"dataframe\">\n",
       "  <thead>\n",
       "    <tr style=\"text-align: right;\">\n",
       "      <th></th>\n",
       "      <th>ratio</th>\n",
       "    </tr>\n",
       "    <tr>\n",
       "      <th>User</th>\n",
       "      <th></th>\n",
       "    </tr>\n",
       "  </thead>\n",
       "  <tbody>\n",
       "    <tr>\n",
       "      <th>Honey</th>\n",
       "      <td>0.099635</td>\n",
       "    </tr>\n",
       "    <tr>\n",
       "      <th>검볼</th>\n",
       "      <td>0.166156</td>\n",
       "    </tr>\n",
       "    <tr>\n",
       "      <th>김커중</th>\n",
       "      <td>0.082703</td>\n",
       "    </tr>\n",
       "    <tr>\n",
       "      <th>네모네모고먐미</th>\n",
       "      <td>0.021661</td>\n",
       "    </tr>\n",
       "    <tr>\n",
       "      <th>노루</th>\n",
       "      <td>0.027540</td>\n",
       "    </tr>\n",
       "  </tbody>\n",
       "</table>\n",
       "</div>"
      ],
      "text/plain": [
       "            ratio\n",
       "User             \n",
       "Honey    0.099635\n",
       "검볼       0.166156\n",
       "김커중      0.082703\n",
       "네모네모고먐미  0.021661\n",
       "노루       0.027540"
      ]
     },
     "execution_count": 27,
     "metadata": {},
     "output_type": "execute_result"
    }
   ],
   "source": [
    "# Chatting 비율\n",
    "ucr_df = stats_controller.user_chat_ratio(5)\n",
    "ucr_df.head()\n",
    "\n",
    "# chatting length 비율\n",
    "ulr_df = stats_controller.user_len_ratio(5)\n",
    "ulr_df.head()\n",
    "\n",
    "# Argument 비율\n",
    "arg_df = stats_controller.user_arg_ratio('ㅋㅋ')\n",
    "arg_df.head()"
   ]
  },
  {
   "cell_type": "code",
   "execution_count": 28,
   "metadata": {},
   "outputs": [],
   "source": [
    "import matplotlib.pyplot as plt\n",
    "\n",
    "plt.rcParams[\"font.family\"] = \"AppleGothic\""
   ]
  },
  {
   "cell_type": "code",
   "execution_count": 29,
   "metadata": {},
   "outputs": [
    {
     "data": {
      "image/png": "[encoded data removed]",
      "text/plain": [
       "<Figure size 640x480 with 1 Axes>"
      ]
     },
     "metadata": {},
     "output_type": "display_data"
    }
   ],
   "source": [
    "Visualizer.draw_pieplot(ucr_df)"
   ]
  },
  {
   "cell_type": "code",
   "execution_count": 30,
   "metadata": {},
   "outputs": [
    {
     "data": {
      "text/html": [
       "<div>\n",
       "<style scoped>\n",
       "    .dataframe tbody tr th:only-of-type {\n",
       "        vertical-align: middle;\n",
       "    }\n",
       "\n",
       "    .dataframe tbody tr th {\n",
       "        vertical-align: top;\n",
       "    }\n",
       "\n",
       "    .dataframe thead th {\n",
       "        text-align: right;\n",
       "    }\n",
       "</style>\n",
       "<table border=\"1\" class=\"dataframe\">\n",
       "  <thead>\n",
       "    <tr style=\"text-align: right;\">\n",
       "      <th></th>\n",
       "      <th>ratio</th>\n",
       "    </tr>\n",
       "    <tr>\n",
       "      <th>User</th>\n",
       "      <th></th>\n",
       "    </tr>\n",
       "  </thead>\n",
       "  <tbody>\n",
       "    <tr>\n",
       "      <th>Honey</th>\n",
       "      <td>0.046173</td>\n",
       "    </tr>\n",
       "    <tr>\n",
       "      <th>검볼</th>\n",
       "      <td>0.001702</td>\n",
       "    </tr>\n",
       "    <tr>\n",
       "      <th>김커중</th>\n",
       "      <td>0.049189</td>\n",
       "    </tr>\n",
       "    <tr>\n",
       "      <th>네모네모고먐미</th>\n",
       "      <td>0.061584</td>\n",
       "    </tr>\n",
       "    <tr>\n",
       "      <th>노루</th>\n",
       "      <td>0.011628</td>\n",
       "    </tr>\n",
       "  </tbody>\n",
       "</table>\n",
       "</div>"
      ],
      "text/plain": [
       "            ratio\n",
       "User             \n",
       "Honey    0.046173\n",
       "검볼       0.001702\n",
       "김커중      0.049189\n",
       "네모네모고먐미  0.061584\n",
       "노루       0.011628"
      ]
     },
     "execution_count": 30,
     "metadata": {},
     "output_type": "execute_result"
    }
   ],
   "source": [
    "arg = 'Emoticon'\n",
    "\n",
    "arg_ratio = stats_controller.user_arg_ratio(arg)\n",
    "arg_ratio.head()"
   ]
  },
  {
   "cell_type": "code",
   "execution_count": 31,
   "metadata": {},
   "outputs": [],
   "source": [
    "from KakaoTalkAnalysis import SessionPreproc\n",
    "from KakaoTalkAnalysis import RelationController\n",
    "\n",
    "session_preproc = SessionPreproc(filtered_df)\n",
    "session_df = session_preproc.cluster_bsd_session()\n",
    "\n",
    "relation_ctr = RelationController(session_df)"
   ]
  },
  {
   "cell_type": "code",
   "execution_count": 33,
   "metadata": {},
   "outputs": [
    {
     "data": {
      "text/html": [
       "<div>\n",
       "<style scoped>\n",
       "    .dataframe tbody tr th:only-of-type {\n",
       "        vertical-align: middle;\n",
       "    }\n",
       "\n",
       "    .dataframe tbody tr th {\n",
       "        vertical-align: top;\n",
       "    }\n",
       "\n",
       "    .dataframe thead th {\n",
       "        text-align: right;\n",
       "    }\n",
       "</style>\n",
       "<table border=\"1\" class=\"dataframe\">\n",
       "  <thead>\n",
       "    <tr style=\"text-align: right;\">\n",
       "      <th></th>\n",
       "      <th>subject</th>\n",
       "      <th>object</th>\n",
       "      <th>abs_score</th>\n",
       "      <th>rel_score</th>\n",
       "      <th>score</th>\n",
       "    </tr>\n",
       "  </thead>\n",
       "  <tbody>\n",
       "    <tr>\n",
       "      <th>186</th>\n",
       "      <td>법학관강아지</td>\n",
       "      <td>칭찬맨</td>\n",
       "      <td>0.138393</td>\n",
       "      <td>0.632653</td>\n",
       "      <td>0.771046</td>\n",
       "    </tr>\n",
       "    <tr>\n",
       "      <th>187</th>\n",
       "      <td>법학관강아지</td>\n",
       "      <td>손번무</td>\n",
       "      <td>0.102679</td>\n",
       "      <td>0.657143</td>\n",
       "      <td>0.759821</td>\n",
       "    </tr>\n",
       "    <tr>\n",
       "      <th>55</th>\n",
       "      <td>푸</td>\n",
       "      <td>응앗</td>\n",
       "      <td>0.441176</td>\n",
       "      <td>0.528169</td>\n",
       "      <td>0.969345</td>\n",
       "    </tr>\n",
       "  </tbody>\n",
       "</table>\n",
       "</div>"
      ],
      "text/plain": [
       "    subject object  abs_score  rel_score     score\n",
       "186  법학관강아지    칭찬맨   0.138393   0.632653  0.771046\n",
       "187  법학관강아지    손번무   0.102679   0.657143  0.759821\n",
       "55        푸     응앗   0.441176   0.528169  0.969345"
      ]
     },
     "execution_count": 33,
     "metadata": {},
     "output_type": "execute_result"
    }
   ],
   "source": [
    "abs_score = relation_ctr.calc_abs_score()\n",
    "rel_score = relation_ctr.calc_rel_score()\n",
    "\n",
    "score_df = relation_ctr.format_score(abs_score, rel_score)\n",
    "score_df.sample(3)"
   ]
  },
  {
   "cell_type": "code",
   "execution_count": 34,
   "metadata": {},
   "outputs": [],
   "source": [
    "from KakaoTalkAnalysis import NaverAIExtractor, SentimentalController\n",
    "\n",
    "naver_ai_private = {\n",
    "    \"client_id\": \"client_id\",\n",
    "    \"client_secret\": \"client_secrete\",\n",
    "    \"content_type\": \"application/json\",\n",
    "}\n",
    "# from private import naver_ai_private\n",
    "\n",
    "naver_ai_extractor = NaverAIExtractor(naver_ai_private)"
   ]
  },
  {
   "cell_type": "code",
   "execution_count": 35,
   "metadata": {},
   "outputs": [],
   "source": [
    "session_talk = (\n",
    "    session_df\n",
    "    .groupby(by=[\"session\"], as_index=False)\n",
    "    [\"Message\"]\n",
    "    .agg(\" \".join)\n",
    "    )"
   ]
  },
  {
   "cell_type": "code",
   "execution_count": 36,
   "metadata": {},
   "outputs": [],
   "source": [
    "# sentimental_dict = {}\n",
    "# summary_dict = {}\n",
    "# for idx, row in session_talk.iterrows():\n",
    "#     content = row[\"Message\"]\n",
    "\n",
    "#     sentimental_resp = naver_ai_extractor.extract_sentimental(content)\n",
    "#     sentimental_dict[row[\"session\"]] = sentimental_resp\n",
    "\n",
    "#     summary_resp = naver_ai_extractor.extract_summary(content)\n",
    "#     summary_dict[row[\"session\"]] = summary_resp\n",
    "\n",
    "import pickle\n",
    "\n",
    "with open(\"./sentimental_dict.pkl\", \"rb\") as f:\n",
    "    sentimental_dict = pickle.load(f)\n",
    "\n",
    "# with open(\"./summary_dict.pkl\", \"rb\") as f:\n",
    "#     summary_dict = pickle.load(f)"
   ]
  },
  {
   "cell_type": "code",
   "execution_count": 38,
   "metadata": {},
   "outputs": [
    {
     "data": {
      "text/html": [
       "<div>\n",
       "<style scoped>\n",
       "    .dataframe tbody tr th:only-of-type {\n",
       "        vertical-align: middle;\n",
       "    }\n",
       "\n",
       "    .dataframe tbody tr th {\n",
       "        vertical-align: top;\n",
       "    }\n",
       "\n",
       "    .dataframe thead th {\n",
       "        text-align: right;\n",
       "    }\n",
       "</style>\n",
       "<table border=\"1\" class=\"dataframe\">\n",
       "  <thead>\n",
       "    <tr style=\"text-align: right;\">\n",
       "      <th></th>\n",
       "      <th>negative</th>\n",
       "      <th>positive</th>\n",
       "      <th>neutral</th>\n",
       "    </tr>\n",
       "    <tr>\n",
       "      <th>User</th>\n",
       "      <th></th>\n",
       "      <th></th>\n",
       "      <th></th>\n",
       "    </tr>\n",
       "  </thead>\n",
       "  <tbody>\n",
       "    <tr>\n",
       "      <th>칭찬맨</th>\n",
       "      <td>1.027737</td>\n",
       "      <td>1.056928</td>\n",
       "      <td>0.872616</td>\n",
       "    </tr>\n",
       "    <tr>\n",
       "      <th>물약군</th>\n",
       "      <td>0.874000</td>\n",
       "      <td>1.179625</td>\n",
       "      <td>1.140672</td>\n",
       "    </tr>\n",
       "    <tr>\n",
       "      <th>명자</th>\n",
       "      <td>1.040768</td>\n",
       "      <td>0.804471</td>\n",
       "      <td>1.091820</td>\n",
       "    </tr>\n",
       "  </tbody>\n",
       "</table>\n",
       "</div>"
      ],
      "text/plain": [
       "      negative  positive   neutral\n",
       "User                              \n",
       "칭찬맨   1.027737  1.056928  0.872616\n",
       "물약군   0.874000  1.179625  1.140672\n",
       "명자    1.040768  0.804471  1.091820"
      ]
     },
     "execution_count": 38,
     "metadata": {},
     "output_type": "execute_result"
    }
   ],
   "source": [
    "sentimental_ctr = SentimentalController(session_df, sentimental_dict)\n",
    "\n",
    "sentimental_total_ratio = sentimental_ctr.calc_total_ratio()\n",
    "sentimental_total_ratio\n",
    "\n",
    "sentimental_user_ratio = sentimental_ctr.calc_user_ratio()\n",
    "sentimental_user_ratio.div(sentimental_total_ratio).sample(3)"
   ]
  },
  {
   "cell_type": "code",
   "execution_count": null,
   "metadata": {},
   "outputs": [],
   "source": []
  }
 ],
 "metadata": {
  "kernelspec": {
   "display_name": "quant_trading",
   "language": "python",
   "name": "python3"
  },
  "language_info": {
   "codemirror_mode": {
    "name": "ipython",
    "version": 3
   },
   "file_extension": ".py",
   "mimetype": "text/x-python",
   "name": "python",
   "nbconvert_exporter": "python",
   "pygments_lexer": "ipython3",
   "version": "3.10.13"
  }
 },
 "nbformat": 4,
 "nbformat_minor": 2
}
